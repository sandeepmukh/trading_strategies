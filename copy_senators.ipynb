{
 "cells": [
  {
   "cell_type": "markdown",
   "metadata": {},
   "source": [
    "The idea here is to test the popular TikTok hypothesis that mimic-ing U.S. Senator's trades is a good way to make money. \n",
    "\n",
    "1. First, we want to create a total Senator Portfolio\n",
    "\n",
    "2. We will update this as Senators make trades\n",
    "\n",
    "3. We then calculate the log-returns of this portfolio and compare these returns to the log returns of various ETFs and calculate whether this portfolio is worth investing in. \n"
   ]
  },
  {
   "cell_type": "markdown",
   "metadata": {},
   "source": [
    "## Creating Senator Index"
   ]
  },
  {
   "cell_type": "code",
   "execution_count": 65,
   "metadata": {},
   "outputs": [],
   "source": [
    "import yfinance as yf\n",
    "import pandas as pd\n",
    "import numpy as np\n",
    "import json\n",
    "import matplotlib.pyplot as plt\n",
    "import datetime as dt"
   ]
  },
  {
   "cell_type": "markdown",
   "metadata": {},
   "source": [
    "### Now we get our data"
   ]
  },
  {
   "cell_type": "code",
   "execution_count": 6,
   "metadata": {},
   "outputs": [
    {
     "name": "stdout",
     "output_type": "stream",
     "text": [
      "[*********************100%***********************]  1 of 1 completed\n"
     ]
    }
   ],
   "source": [
    "spy = yf.download(\"SPY\")"
   ]
  },
  {
   "cell_type": "code",
   "execution_count": 67,
   "metadata": {},
   "outputs": [
    {
     "data": {
      "text/html": [
       "<div>\n",
       "<style scoped>\n",
       "    .dataframe tbody tr th:only-of-type {\n",
       "        vertical-align: middle;\n",
       "    }\n",
       "\n",
       "    .dataframe tbody tr th {\n",
       "        vertical-align: top;\n",
       "    }\n",
       "\n",
       "    .dataframe thead th {\n",
       "        text-align: right;\n",
       "    }\n",
       "</style>\n",
       "<table border=\"1\" class=\"dataframe\">\n",
       "  <thead>\n",
       "    <tr style=\"text-align: right;\">\n",
       "      <th></th>\n",
       "      <th>Open</th>\n",
       "      <th>High</th>\n",
       "      <th>Low</th>\n",
       "      <th>Close</th>\n",
       "      <th>Adj Close</th>\n",
       "      <th>Volume</th>\n",
       "      <th>pct_change</th>\n",
       "      <th>log_ret</th>\n",
       "    </tr>\n",
       "    <tr>\n",
       "      <th>Date</th>\n",
       "      <th></th>\n",
       "      <th></th>\n",
       "      <th></th>\n",
       "      <th></th>\n",
       "      <th></th>\n",
       "      <th></th>\n",
       "      <th></th>\n",
       "      <th></th>\n",
       "    </tr>\n",
       "  </thead>\n",
       "  <tbody>\n",
       "    <tr>\n",
       "      <th>1993-01-29</th>\n",
       "      <td>43.96875</td>\n",
       "      <td>43.96875</td>\n",
       "      <td>43.75000</td>\n",
       "      <td>43.93750</td>\n",
       "      <td>25.968958</td>\n",
       "      <td>1003200</td>\n",
       "      <td>NaN</td>\n",
       "      <td>NaN</td>\n",
       "    </tr>\n",
       "    <tr>\n",
       "      <th>1993-02-01</th>\n",
       "      <td>43.96875</td>\n",
       "      <td>44.25000</td>\n",
       "      <td>43.96875</td>\n",
       "      <td>44.25000</td>\n",
       "      <td>26.153660</td>\n",
       "      <td>480500</td>\n",
       "      <td>0.000000</td>\n",
       "      <td>0.000000</td>\n",
       "    </tr>\n",
       "    <tr>\n",
       "      <th>1993-02-02</th>\n",
       "      <td>44.21875</td>\n",
       "      <td>44.37500</td>\n",
       "      <td>44.12500</td>\n",
       "      <td>44.34375</td>\n",
       "      <td>26.209057</td>\n",
       "      <td>201300</td>\n",
       "      <td>0.005686</td>\n",
       "      <td>0.005670</td>\n",
       "    </tr>\n",
       "    <tr>\n",
       "      <th>1993-02-03</th>\n",
       "      <td>44.40625</td>\n",
       "      <td>44.84375</td>\n",
       "      <td>44.37500</td>\n",
       "      <td>44.81250</td>\n",
       "      <td>26.486113</td>\n",
       "      <td>529400</td>\n",
       "      <td>0.004240</td>\n",
       "      <td>0.004231</td>\n",
       "    </tr>\n",
       "    <tr>\n",
       "      <th>1993-02-04</th>\n",
       "      <td>44.96875</td>\n",
       "      <td>45.09375</td>\n",
       "      <td>44.46875</td>\n",
       "      <td>45.00000</td>\n",
       "      <td>26.596937</td>\n",
       "      <td>531500</td>\n",
       "      <td>0.012667</td>\n",
       "      <td>0.012588</td>\n",
       "    </tr>\n",
       "  </tbody>\n",
       "</table>\n",
       "</div>"
      ],
      "text/plain": [
       "                Open      High       Low     Close  Adj Close   Volume  \\\n",
       "Date                                                                     \n",
       "1993-01-29  43.96875  43.96875  43.75000  43.93750  25.968958  1003200   \n",
       "1993-02-01  43.96875  44.25000  43.96875  44.25000  26.153660   480500   \n",
       "1993-02-02  44.21875  44.37500  44.12500  44.34375  26.209057   201300   \n",
       "1993-02-03  44.40625  44.84375  44.37500  44.81250  26.486113   529400   \n",
       "1993-02-04  44.96875  45.09375  44.46875  45.00000  26.596937   531500   \n",
       "\n",
       "            pct_change   log_ret  \n",
       "Date                              \n",
       "1993-01-29         NaN       NaN  \n",
       "1993-02-01    0.000000  0.000000  \n",
       "1993-02-02    0.005686  0.005670  \n",
       "1993-02-03    0.004240  0.004231  \n",
       "1993-02-04    0.012667  0.012588  "
      ]
     },
     "execution_count": 67,
     "metadata": {},
     "output_type": "execute_result"
    },
    {
     "data": {
      "image/png": "[encoded data removed]",
      "text/plain": [
       "<Figure size 432x288 with 1 Axes>"
      ]
     },
     "metadata": {
      "needs_background": "light"
     },
     "output_type": "display_data"
    }
   ],
   "source": [
    "# Calculating log returns\n",
    "spy['pct_change'] = spy[\"Open\"].pct_change()\n",
    "spy['log_ret'] = np.log(spy.Open) - np.log(spy.Open.shift(1))\n",
    "plt.plot(spy[\"log_ret\"])\n",
    "spy.head()\n"
   ]
  },
  {
   "cell_type": "code",
   "execution_count": 23,
   "metadata": {},
   "outputs": [],
   "source": [
    "with open('./all_ticker_transactions.json') as f:\n",
    "  senate_trades = json.load(f)\n",
    "sen_trades = pd.DataFrame(senate_trades)\n",
    "sen_trades = sen_trades.set_index(\"ticker\")\n",
    "test = sen_trades.loc[\"BA\"][\"transactions\"]"
   ]
  },
  {
   "cell_type": "code",
   "execution_count": 64,
   "metadata": {},
   "outputs": [
    {
     "name": "stdout",
     "output_type": "stream",
     "text": [
      "{'transaction_date': '12/22/2020', 'owner': 'Spouse', 'ticker': '<a href=\"https://finance.yahoo.com/q?s=BA\" target=\"_blank\">BA</a>', 'asset_description': 'The Boeing Company', 'asset_type': 'Stock', 'type': 'Purchase', 'amount': '$15,001 - $50,000', 'comment': 'R', 'senator': 'Pat Roberts', 'ptr_link': 'https://efdsearch.senate.gov/search/view/ptr/70614aca-cf77-4a70-b0c8-245a097a7350/'}\n",
      "{'transaction_date': '12/21/2020', 'owner': 'Spouse', 'ticker': '<a href=\"https://finance.yahoo.com/q?s=BA\" target=\"_blank\">BA</a>', 'asset_description': 'The Boeing Company', 'asset_type': 'Stock', 'type': 'Purchase', 'amount': '$15,001 - $50,000', 'comment': 'R', 'senator': 'Pat Roberts', 'ptr_link': 'https://efdsearch.senate.gov/search/view/ptr/70614aca-cf77-4a70-b0c8-245a097a7350/'}\n",
      "{'transaction_date': '12/07/2020', 'owner': 'Spouse', 'ticker': '<a href=\"https://finance.yahoo.com/q?s=BA\" target=\"_blank\">BA</a>', 'asset_description': 'The Boeing Company', 'asset_type': 'Stock', 'type': 'Purchase', 'amount': '$15,001 - $50,000', 'comment': 'R', 'senator': 'Pat Roberts', 'ptr_link': 'https://efdsearch.senate.gov/search/view/ptr/70614aca-cf77-4a70-b0c8-245a097a7350/'}\n",
      "{'transaction_date': '12/04/2020', 'owner': 'Spouse', 'ticker': '<a href=\"https://finance.yahoo.com/q?s=BA\" target=\"_blank\">BA</a>', 'asset_description': 'The Boeing Company', 'asset_type': 'Stock', 'type': 'Sale (Full)', 'amount': '$15,001 - $50,000', 'comment': 'R', 'senator': 'Pat Roberts', 'ptr_link': 'https://efdsearch.senate.gov/search/view/ptr/70614aca-cf77-4a70-b0c8-245a097a7350/'}\n",
      "{'transaction_date': '11/16/2020', 'owner': 'Spouse', 'ticker': '<a href=\"https://finance.yahoo.com/q?s=BA\" target=\"_blank\">BA</a>', 'asset_description': 'The Boeing Company', 'asset_type': 'Stock', 'type': 'Purchase', 'amount': '$15,001 - $50,000', 'comment': 'R', 'senator': 'Pat Roberts', 'ptr_link': 'https://efdsearch.senate.gov/search/view/ptr/b7e581e7-f154-4dc7-890d-1c827c88ba7a/'}\n",
      "{'transaction_date': '11/09/2020', 'owner': 'Spouse', 'ticker': '<a href=\"https://finance.yahoo.com/q?s=BA\" target=\"_blank\">BA</a>', 'asset_description': 'The Boeing Company', 'asset_type': 'Stock', 'type': 'Sale (Full)', 'amount': '$15,001 - $50,000', 'comment': 'sep', 'senator': 'Pat Roberts', 'ptr_link': 'https://efdsearch.senate.gov/search/view/ptr/b7e581e7-f154-4dc7-890d-1c827c88ba7a/'}\n",
      "{'transaction_date': '09/04/2020', 'owner': 'Spouse', 'ticker': '<a href=\"https://finance.yahoo.com/q?s=BA\" target=\"_blank\">BA</a>', 'asset_description': 'The Boeing Company', 'asset_type': 'Stock', 'type': 'Sale (Full)', 'amount': '$15,001 - $50,000', 'comment': '555', 'senator': 'Pat Roberts', 'ptr_link': 'https://efdsearch.senate.gov/search/view/ptr/6f691f61-e375-42ab-af01-72da4328447c/'}\n",
      "{'transaction_date': '08/05/2020', 'owner': 'Spouse', 'ticker': '<a href=\"https://finance.yahoo.com/q?s=BA\" target=\"_blank\">BA</a>', 'asset_description': 'The Boeing Company', 'asset_type': 'Stock', 'type': 'Purchase', 'amount': '$15,001 - $50,000', 'comment': 'R', 'senator': 'Pat Roberts', 'ptr_link': 'https://efdsearch.senate.gov/search/view/ptr/ee7d87c0-21be-482b-9e7b-3caf7a6fff24/'}\n",
      "{'transaction_date': '07/02/2020', 'owner': 'Spouse', 'ticker': '<a href=\"https://finance.yahoo.com/q?s=BA\" target=\"_blank\">BA</a>', 'asset_description': 'The Boeing Company', 'asset_type': 'Stock', 'type': 'Purchase', 'amount': '$1,001 - $15,000', 'comment': 'R', 'senator': 'Pat Roberts', 'ptr_link': 'https://efdsearch.senate.gov/search/view/ptr/33d51e53-683b-4cdc-9575-8f72f9a71d57/'}\n",
      "{'transaction_date': '07/27/2020', 'owner': 'Spouse', 'ticker': '<a href=\"https://finance.yahoo.com/q?s=BA\" target=\"_blank\">BA</a>', 'asset_description': 'The Boeing Company', 'asset_type': 'Stock', 'type': 'Purchase', 'amount': '$1,001 - $15,000', 'comment': 'sep', 'senator': 'Pat Roberts', 'ptr_link': 'https://efdsearch.senate.gov/search/view/ptr/33d51e53-683b-4cdc-9575-8f72f9a71d57/'}\n",
      "{'transaction_date': '06/30/2020', 'owner': 'Spouse', 'ticker': '<a href=\"https://finance.yahoo.com/q?s=BA\" target=\"_blank\">BA</a>', 'asset_description': 'The Boeing Company', 'asset_type': 'Stock', 'type': 'Purchase', 'amount': '$1,001 - $15,000', 'comment': 'R', 'senator': 'Pat Roberts', 'ptr_link': 'https://efdsearch.senate.gov/search/view/ptr/8be9d29a-c980-494e-b719-64794f213978/'}\n",
      "{'transaction_date': '06/05/2020', 'owner': 'Spouse', 'ticker': '<a href=\"https://finance.yahoo.com/q?s=BA\" target=\"_blank\">BA</a>', 'asset_description': 'The Boeing Company', 'asset_type': 'Stock', 'type': 'Purchase', 'amount': '$1,001 - $15,000', 'comment': '555', 'senator': 'Pat Roberts', 'ptr_link': 'https://efdsearch.senate.gov/search/view/ptr/8be9d29a-c980-494e-b719-64794f213978/'}\n",
      "{'transaction_date': '04/16/2020', 'owner': 'Joint', 'ticker': '<a href=\"https://finance.yahoo.com/q?s=BA\" target=\"_blank\">BA</a>', 'asset_description': 'The Boeing Company', 'asset_type': 'Stock', 'type': 'Sale (Full)', 'amount': '$1,001 - $15,000', 'comment': '--', 'senator': 'David A Perdue , Jr', 'ptr_link': 'https://efdsearch.senate.gov/search/view/ptr/bc6c5872-1fdd-4e99-857e-08b4ec2c85c8/'}\n",
      "{'transaction_date': '03/26/2020', 'owner': 'Spouse', 'ticker': '<a href=\"https://finance.yahoo.com/q?s=BA\" target=\"_blank\">BA</a>', 'asset_description': 'The Boeing Company', 'asset_type': 'Stock', 'type': 'Purchase', 'amount': '$15,001 - $50,000', 'comment': '555', 'senator': 'Pat Roberts', 'ptr_link': 'https://efdsearch.senate.gov/search/view/ptr/6bbd9f3b-986f-45ca-925e-b7e8ecad9d0e/'}\n",
      "{'transaction_date': '03/15/2019', 'owner': 'Spouse', 'ticker': '<a href=\"https://finance.yahoo.com/q?s=BA\" target=\"_blank\">BA</a>', 'asset_description': 'The Boeing Company', 'asset_type': 'Stock', 'type': 'Sale (Full)', 'amount': '$1,001 - $15,000', 'comment': '--', 'senator': 'Sheldon Whitehouse', 'ptr_link': 'https://efdsearch.senate.gov/search/view/ptr/94008f80-fd16-4656-afb6-ba4ae1d47319/'}\n",
      "{'transaction_date': '03/15/2019', 'owner': 'Joint', 'ticker': '<a href=\"https://finance.yahoo.com/q?s=BA\" target=\"_blank\">BA</a>', 'asset_description': 'The Boeing Company', 'asset_type': 'Stock', 'type': 'Sale (Full)', 'amount': '$15,001 - $50,000', 'comment': '--', 'senator': 'Sheldon Whitehouse', 'ptr_link': 'https://efdsearch.senate.gov/search/view/ptr/94008f80-fd16-4656-afb6-ba4ae1d47319/'}\n",
      "{'transaction_date': '07/30/2018', 'owner': 'Spouse', 'ticker': '<a href=\"https://finance.yahoo.com/q?s=BA\" target=\"_blank\">BA</a>', 'asset_description': 'The Boeing Company', 'asset_type': 'Stock', 'type': 'Sale (Full)', 'amount': '$50,001 - $100,000', 'comment': 'sep', 'senator': 'Pat Roberts', 'ptr_link': 'https://efdsearch.senate.gov/search/view/ptr/9bf4061a-631f-4413-9e74-aaf653ffa30e/'}\n",
      "{'transaction_date': '06/07/2018', 'owner': 'Spouse', 'ticker': '<a href=\"https://finance.yahoo.com/q?s=BA\" target=\"_blank\">BA</a>', 'asset_description': 'The Boeing Company', 'asset_type': 'Stock', 'type': 'Sale (Full)', 'amount': '$1,001 - $15,000', 'comment': '--', 'senator': 'Shelley M Capito', 'ptr_link': 'https://efdsearch.senate.gov/search/view/ptr/7d7bc284-fade-45f2-b8bd-3b6414dfdefc/'}\n",
      "{'transaction_date': '06/06/2018', 'owner': 'Spouse', 'ticker': '<a href=\"https://finance.yahoo.com/q?s=BA\" target=\"_blank\">BA</a>', 'asset_description': 'The Boeing Company', 'asset_type': 'Stock', 'type': 'Purchase', 'amount': '$1,001 - $15,000', 'comment': '--', 'senator': 'Sheldon Whitehouse', 'ptr_link': 'https://efdsearch.senate.gov/search/view/ptr/323d6a47-cb2a-4ff4-8b0b-774a6312a1fa/'}\n",
      "{'transaction_date': '02/05/2018', 'owner': 'Spouse', 'ticker': '<a href=\"https://finance.yahoo.com/q?s=BA\" target=\"_blank\">BA</a>', 'asset_description': 'The Boeing Company', 'asset_type': 'Stock', 'type': 'Purchase', 'amount': '$50,001 - $100,000', 'comment': 'sep', 'senator': 'Pat Roberts', 'ptr_link': 'https://efdsearch.senate.gov/search/view/ptr/880caa8f-bd2d-4351-9397-3775e4cc2680/'}\n",
      "{'transaction_date': '02/05/2018', 'owner': 'Spouse', 'ticker': '<a href=\"https://finance.yahoo.com/q?s=BA\" target=\"_blank\">BA</a>', 'asset_description': 'The Boeing Company', 'asset_type': 'Stock', 'type': 'Sale (Full)', 'amount': '$15,001 - $50,000', 'comment': 'sep', 'senator': 'Pat Roberts', 'ptr_link': 'https://efdsearch.senate.gov/search/view/ptr/880caa8f-bd2d-4351-9397-3775e4cc2680/'}\n",
      "{'transaction_date': '09/27/2017', 'owner': 'Spouse', 'ticker': '<a href=\"https://finance.yahoo.com/q?s=BA\" target=\"_blank\">BA</a>', 'asset_description': 'The Boeing Company', 'asset_type': 'Stock', 'type': 'Purchase', 'amount': '$1,001 - $15,000', 'comment': 'sep', 'senator': 'Pat Roberts', 'ptr_link': 'https://efdsearch.senate.gov/search/view/ptr/4cdd93be-dfaf-465a-820f-616ae1f0f6b0/'}\n",
      "{'transaction_date': '09/27/2017', 'owner': 'Spouse', 'ticker': '<a href=\"https://finance.yahoo.com/q?s=BA\" target=\"_blank\">BA</a>', 'asset_description': 'The Boeing Company', 'asset_type': 'Stock', 'type': 'Purchase', 'amount': '$1,001 - $15,000', 'comment': 'sep', 'senator': 'Pat Roberts', 'ptr_link': 'https://efdsearch.senate.gov/search/view/ptr/8e2a3cb5-2511-4921-82ee-bf81d7c8ea6b/'}\n",
      "{'transaction_date': '06/15/2017', 'owner': 'Spouse', 'ticker': '<a href=\"https://finance.yahoo.com/q?s=BA\" target=\"_blank\">BA</a>', 'asset_description': 'The Boeing Company', 'asset_type': 'Stock', 'type': 'Sale (Full)', 'amount': '$1,001 - $15,000', 'comment': '--', 'senator': 'Patty Murray', 'ptr_link': 'https://efdsearch.senate.gov/search/view/ptr/07a7470c-ae50-4a37-8c10-cf1c59a69674/'}\n",
      "{'transaction_date': '03/16/2017', 'owner': 'Spouse', 'ticker': '<a href=\"https://finance.yahoo.com/q?s=BA\" target=\"_blank\">BA</a>', 'asset_description': 'The Boeing Company', 'asset_type': 'Stock', 'type': 'Purchase', 'amount': '$1,001 - $15,000', 'comment': '--', 'senator': 'Patty Murray', 'ptr_link': 'https://efdsearch.senate.gov/search/view/ptr/66856e4d-4c3b-45dc-8bab-ba2c28323d5d/'}\n",
      "{'transaction_date': '01/24/2017', 'owner': 'Joint', 'ticker': '<a href=\"https://finance.yahoo.com/q?s=BA\" target=\"_blank\">BA</a>', 'asset_description': 'The Boeing Company', 'asset_type': 'Stock', 'type': 'Purchase', 'amount': '$1,001 - $15,000', 'comment': '--', 'senator': 'Sheldon Whitehouse', 'ptr_link': 'https://efdsearch.senate.gov/search/view/ptr/18f07909-0ca6-4804-8503-d83c0b84a15e/'}\n",
      "{'transaction_date': '12/27/2016', 'owner': 'Spouse', 'ticker': '<a href=\"https://finance.yahoo.com/q?s=BA\" target=\"_blank\">BA</a>', 'asset_description': 'The Boeing Company', 'asset_type': 'Stock', 'type': 'Sale (Full)', 'amount': '$15,001 - $50,000', 'comment': 'R', 'senator': 'Pat Roberts', 'ptr_link': 'https://efdsearch.senate.gov/search/view/ptr/de5e79a5-a564-4b76-81ad-33a96f251b33/'}\n",
      "{'transaction_date': '11/15/2016', 'owner': 'Joint', 'ticker': '<a href=\"https://finance.yahoo.com/q?s=BA\" target=\"_blank\">BA</a>', 'asset_description': 'The Boeing Company', 'asset_type': 'Stock', 'type': 'Purchase', 'amount': '$1,001 - $15,000', 'comment': '--', 'senator': 'Sheldon Whitehouse', 'ptr_link': 'https://efdsearch.senate.gov/search/view/ptr/0b09f334-04bc-4942-b432-d9fcdae80d08/'}\n",
      "{'transaction_date': '09/28/2016', 'owner': 'Joint', 'ticker': '<a href=\"https://finance.yahoo.com/q?s=BA\" target=\"_blank\">BA</a>', 'asset_description': 'The Boeing Company', 'asset_type': 'Stock', 'type': 'Purchase', 'amount': '$1,001 - $15,000', 'comment': '--', 'senator': 'Sheldon Whitehouse', 'ptr_link': 'https://efdsearch.senate.gov/search/view/ptr/aad1827a-05d8-4b8f-96ed-f3e5f8c925ab/'}\n",
      "{'transaction_date': '02/23/2015', 'owner': 'Joint', 'ticker': '<a href=\"https://finance.yahoo.com/q?s=BA\" target=\"_blank\">BA</a>', 'asset_description': 'The Boeing Company (NYSE)', 'asset_type': 'Stock', 'type': 'Sale (Full)', 'amount': '$15,001 - $50,000', 'comment': '--', 'senator': 'David A Perdue , Jr', 'ptr_link': 'https://efdsearch.senate.gov/search/view/ptr/112fdda9-70c4-4cc5-a386-5c9491ba2d9b/'}\n",
      "{'transaction_date': '04/24/2015', 'owner': 'Spouse', 'ticker': '<a href=\"https://finance.yahoo.com/q?s=BA\" target=\"_blank\">BA</a>', 'asset_description': 'The Boeing Company (NYSE)', 'asset_type': 'Stock', 'type': 'Purchase', 'amount': '$1,001 - $15,000', 'comment': 'R', 'senator': 'Pat Roberts', 'ptr_link': 'https://efdsearch.senate.gov/search/view/ptr/994b4308-c6c7-4e7f-a958-1da19b71e00a/'}\n",
      "{'transaction_date': '03/17/2015', 'owner': 'Spouse', 'ticker': '<a href=\"https://finance.yahoo.com/q?s=BA\" target=\"_blank\">BA</a>', 'asset_description': 'The Boeing Company (NYSE)', 'asset_type': 'Stock', 'type': 'Purchase', 'amount': '$1,001 - $15,000', 'comment': 'R', 'senator': 'Pat Roberts', 'ptr_link': 'https://efdsearch.senate.gov/search/view/ptr/9e736ac9-65e1-44d7-a543-8e4893e0e0a7/'}\n",
      "{'transaction_date': '03/17/2015', 'owner': 'Spouse', 'ticker': '<a href=\"https://finance.yahoo.com/q?s=BA\" target=\"_blank\">BA</a>', 'asset_description': 'The Boeing Company (NYSE)', 'asset_type': 'Stock', 'type': 'Purchase', 'amount': '$1,001 - $15,000', 'comment': 'R', 'senator': 'Pat Roberts', 'ptr_link': 'https://efdsearch.senate.gov/search/view/ptr/9e736ac9-65e1-44d7-a543-8e4893e0e0a7/'}\n",
      "{'transaction_date': '03/11/2015', 'owner': 'Spouse', 'ticker': '<a href=\"https://finance.yahoo.com/q?s=BA\" target=\"_blank\">BA</a>', 'asset_description': 'The Boeing Company (NYSE)', 'asset_type': 'Stock', 'type': 'Sale (Full)', 'amount': '$15,001 - $50,000', 'comment': 'R', 'senator': 'Pat Roberts', 'ptr_link': 'https://efdsearch.senate.gov/search/view/ptr/9e736ac9-65e1-44d7-a543-8e4893e0e0a7/'}\n",
      "{'transaction_date': '12/19/2014', 'owner': 'Spouse', 'ticker': '<a href=\"https://finance.yahoo.com/q?s=BA\" target=\"_blank\">BA</a>', 'asset_description': 'The Boeing Company (NYSE)', 'asset_type': 'Stock', 'type': 'Purchase', 'amount': '$1,001 - $15,000', 'comment': 'R', 'senator': 'Pat Roberts', 'ptr_link': 'https://efdsearch.senate.gov/search/view/ptr/fcfa1745-5a76-4899-8541-7012c66b5f04/'}\n",
      "{'transaction_date': '09/29/2014', 'owner': 'Self', 'ticker': '<a href=\"https://finance.yahoo.com/q?s=BA\" target=\"_blank\">BA</a>', 'asset_description': 'The Boeing Company (NYSE)', 'asset_type': '', 'type': 'Sale (Full)', 'amount': '$100,001 - $250,000', 'comment': '--', 'senator': 'John Hoeven', 'ptr_link': 'https://efdsearch.senate.gov/search/view/ptr/2bad305c-8d1e-404e-97bd-c6389864832e/'}\n",
      "{'transaction_date': '04/28/2014', 'owner': 'Self', 'ticker': '<a href=\"https://finance.yahoo.com/q?s=BA\" target=\"_blank\">BA</a>', 'asset_description': 'The Boeing Company (NYSE)', 'asset_type': '', 'type': 'Purchase', 'amount': '$100,001 - $250,000', 'comment': '--', 'senator': 'John Hoeven', 'ptr_link': 'https://efdsearch.senate.gov/search/view/ptr/da7d4e7e-8858-4dc1-ba7e-800c7ce82e7f/'}\n",
      "{'transaction_date': '03/19/2014', 'owner': 'Spouse', 'ticker': '<a href=\"https://finance.yahoo.com/q?s=BA\" target=\"_blank\">BA</a>', 'asset_description': 'The Boeing Company (NYSE)', 'asset_type': '', 'type': 'Purchase', 'amount': '$1,001 - $15,000', 'comment': '--', 'senator': 'Susan M Collins', 'ptr_link': 'https://efdsearch.senate.gov/search/view/ptr/fa1f4bdc-b23d-4f6c-ab85-75203a9e80a2/'}\n",
      "{'transaction_date': '01/29/2014', 'owner': 'Self', 'ticker': '<a href=\"https://finance.yahoo.com/q?s=BA\" target=\"_blank\">BA</a>', 'asset_description': 'The Boeing Company (NYSE)', 'asset_type': '', 'type': 'Sale (Full)', 'amount': '$15,001 - $50,000', 'comment': '--', 'senator': 'Sheldon Whitehouse', 'ptr_link': 'https://efdsearch.senate.gov/search/view/ptr/1237c9ae-5171-4e3c-aa4d-41bd4789ce8d/'}\n",
      "{'transaction_date': '02/04/2014', 'owner': 'Spouse', 'ticker': '<a href=\"https://finance.yahoo.com/q?s=BA\" target=\"_blank\">BA</a>', 'asset_description': 'The Boeing Company (NYSE)', 'asset_type': '', 'type': 'Sale (Partial)', 'amount': '$1,001 - $15,000', 'comment': '--', 'senator': 'Susan M Collins', 'ptr_link': 'https://efdsearch.senate.gov/search/view/ptr/8225a609-c7d3-4301-a11c-16aaeab1ba0d/'}\n",
      "{'transaction_date': '02/07/2014', 'owner': 'Spouse', 'ticker': '<a href=\"https://finance.yahoo.com/q?s=BA\" target=\"_blank\">BA</a>', 'asset_description': 'The Boeing Company (NYSE)', 'asset_type': '', 'type': 'Sale (Partial)', 'amount': '$1,001 - $15,000', 'comment': '--', 'senator': 'Susan M Collins', 'ptr_link': 'https://efdsearch.senate.gov/search/view/ptr/8225a609-c7d3-4301-a11c-16aaeab1ba0d/'}\n"
     ]
    },
    {
     "data": {
      "text/plain": [
       "0"
      ]
     },
     "execution_count": 64,
     "metadata": {},
     "output_type": "execute_result"
    }
   ],
   "source": [
    "def find_aggregate_cost(transact_lst):\n",
    "    '''Finds the current value of a ticker in the senate portfolio if all transations are maximal'''\n",
    "    total_units = 0\n",
    "    ticker = \n",
    "    try: \n",
    "        yf.download(ticker)\n",
    "    \n",
    "    for t in transact_lst:\n",
    "        sign = 1 if t[\"type\"] == \"Purchase\" else -1 \n",
    "        print(t)\n",
    "        total_units += money_range_to_int(t[\"amount\"])*sign\n",
    "    \n",
    "    return total_units\n",
    "\n",
    "def get_ticker(transact):\n",
    "    \n",
    "\n",
    "def money_range_to_int(str_range):\n",
    "    return eval(str_range[str_range[1:].find(\"$\") + 2:].replace(\",\", \"\"))\n",
    "\n",
    "find_aggregate_cost(test, \"BA\")"
   ]
  }
 ],
 "metadata": {
  "kernelspec": {
   "display_name": "Python 3",
   "language": "python",
   "name": "python3"
  },
  "language_info": {
   "codemirror_mode": {
    "name": "ipython",
    "version": 3
   },
   "file_extension": ".py",
   "mimetype": "text/x-python",
   "name": "python",
   "nbconvert_exporter": "python",
   "pygments_lexer": "ipython3",
   "version": "3.8.3"
  }
 },
 "nbformat": 4,
 "nbformat_minor": 4
}
