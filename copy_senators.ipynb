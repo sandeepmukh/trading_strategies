{
 "cells": [
  {
   "source": [
    "The idea here is to test the popular TikTok hypothesis that mimic-ing U.S. Senator's trades is a good way to make money. \n",
    "\n",
    "1. First, we want to come up with a list of Senators, and scrape their trades (buys and sells)\n",
    "\n",
    "2. Next, we want to compare that to the SPY \n",
    "\n",
    "3. Finally, we want to calculate how much money we'd make investing in the \"Senator Index\" versus just the SPY. \n"
   ],
   "cell_type": "markdown",
   "metadata": {}
  },
  {
   "source": [
    "## Creating Senator Index"
   ],
   "cell_type": "markdown",
   "metadata": {}
  },
  {
   "cell_type": "code",
   "execution_count": null,
   "metadata": {},
   "outputs": [],
   "source": []
  }
 ],
 "metadata": {
  "kernelspec": {
   "display_name": "Python 3",
   "language": "python",
   "name": "python3"
  },
  "language_info": {
   "codemirror_mode": {
    "name": "ipython",
    "version": 3
   },
   "file_extension": ".py",
   "mimetype": "text/x-python",
   "name": "python",
   "nbconvert_exporter": "python",
   "pygments_lexer": "ipython3",
   "version": "3.8.0-final"
  }
 },
 "nbformat": 4,
 "nbformat_minor": 4
}